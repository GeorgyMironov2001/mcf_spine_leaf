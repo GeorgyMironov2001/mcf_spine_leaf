{
 "cells": [
  {
   "cell_type": "code",
   "execution_count": 1,
   "id": "011e38c3-510e-406c-8934-f205d8d2abf0",
   "metadata": {},
   "outputs": [
    {
     "name": "stdout",
     "output_type": "stream",
     "text": [
      "load C:\\Users\\MWX1248700\\VScodeProjects\\mcf_spine_leaf\\py_env\\Lib\\site-packages\\ortools\\.libs\\zlib1.dll...\n",
      "load C:\\Users\\MWX1248700\\VScodeProjects\\mcf_spine_leaf\\py_env\\Lib\\site-packages\\ortools\\.libs\\abseil_dll.dll...\n",
      "load C:\\Users\\MWX1248700\\VScodeProjects\\mcf_spine_leaf\\py_env\\Lib\\site-packages\\ortools\\.libs\\utf8_validity.dll...\n",
      "load C:\\Users\\MWX1248700\\VScodeProjects\\mcf_spine_leaf\\py_env\\Lib\\site-packages\\ortools\\.libs\\re2.dll...\n",
      "load C:\\Users\\MWX1248700\\VScodeProjects\\mcf_spine_leaf\\py_env\\Lib\\site-packages\\ortools\\.libs\\libprotobuf.dll...\n",
      "load C:\\Users\\MWX1248700\\VScodeProjects\\mcf_spine_leaf\\py_env\\Lib\\site-packages\\ortools\\.libs\\highs.dll...\n",
      "load C:\\Users\\MWX1248700\\VScodeProjects\\mcf_spine_leaf\\py_env\\Lib\\site-packages\\ortools\\.libs\\ortools.dll...\n"
     ]
    }
   ],
   "source": [
    "import json\n",
    "import os\n",
    "import matplotlib.pyplot as plt\n",
    "import numpy as np\n",
    "import random\n",
    "import math\n",
    "import json\n",
    "import os\n",
    "from pathlib import Path\n",
    "import pulp\n",
    "from ortools.constraint_solver import pywrapcp\n",
    "from ortools.sat.python import cp_model\n",
    "import networkx as nx\n",
    "import concurrent.futures\n",
    "import threading\n",
    "from multiprocessing import Pool\n",
    "from copy import deepcopy"
   ]
  },
  {
   "cell_type": "code",
   "execution_count": 2,
   "id": "079eadee-1cbf-4a56-8f60-f4dd024497aa",
   "metadata": {},
   "outputs": [],
   "source": [
    "alpha_list = [\n",
    "    \"-1.0\",\n",
    "    \"-0.9\",\n",
    "    \"-0.8\",\n",
    "    \"-0.7\",\n",
    "    \"-0.6\",\n",
    "    \"-0.5\",\n",
    "    \"-0.4\",\n",
    "    \"-0.3\",\n",
    "    \"-0.2\",\n",
    "    \"-0.1\",\n",
    "    \"0.0\",\n",
    "    \"0.1\",\n",
    "    \"0.2\",\n",
    "    \"0.3\",\n",
    "    \"0.4\",\n",
    "    \"0.5\",\n",
    "    \"0.6\",\n",
    "    \"0.7\",\n",
    "    \"0.8\",\n",
    "    \"0.9\",\n",
    "    \"1.0\",\n",
    "]"
   ]
  },
  {
   "cell_type": "code",
   "execution_count": 3,
   "id": "d1affca9-7b19-4e58-89c5-1998c2832d17",
   "metadata": {},
   "outputs": [],
   "source": [
    "# def get_statistic(stat_name):\n",
    "#     cwd = os.getcwd()\n",
    "#     with open(os.path.join(cwd, \"statistics\", stat_name), \"r\") as f:\n",
    "#         res = json.load(f)\n",
    "#     return res\n",
    "\n",
    "\n",
    "# def draw_success_part(stat_name):\n",
    "#     stats = get_statistic(stat_name)\n",
    "#     n = len(stats)\n",
    "#     fig, axs = plt.subplots(n, figsize=(10, 8))\n",
    "\n",
    "#     for plot_id, (config, results) in enumerate(stats.items()):\n",
    "#         tasks, leaves, spines = eval(config)\n",
    "#         x = list(map(float, results.keys()))\n",
    "#         y = [\n",
    "#             d[\"passed_tests\"] / (d[\"passed_tests\"] + d[\"failed_tests\"])\n",
    "#             for d in results.values()\n",
    "#         ]\n",
    "#         axs[plot_id].scatter(x, y)\n",
    "#         axs[plot_id].set_title(f\"{tasks}_{leaves}_{spines}\")\n",
    "#         axs[plot_id].set_xlabel(\"alpha\")\n",
    "#         axs[plot_id].set_ylabel(\"success rate\")\n",
    "#     fig.tight_layout()\n",
    "#     plt.show()\n",
    "\n",
    "\n",
    "# def draw_both_scenarios(first_name, second_name):\n",
    "#     first_stat = get_statistic(first_name)\n",
    "#     second_stat = get_statistic(second_name)\n",
    "\n",
    "#     n = len(first_stat)\n",
    "#     fig, axs = plt.subplots(n, figsize=(15, 13))\n",
    "#     configs = list(first_stat.keys())\n",
    "#     for plot_id, config in enumerate(configs):\n",
    "#         tasks, leaves, spines = eval(config)\n",
    "#         first_results = first_stat[config]\n",
    "#         second_results = second_stat[config]\n",
    "\n",
    "#         x1 = list(map(float, first_results.keys()))\n",
    "#         y1 = [\n",
    "#             d[\"passed_tests\"] / (d[\"passed_tests\"] + d[\"failed_tests\"])\n",
    "#             for d in first_results.values()\n",
    "#         ]\n",
    "\n",
    "#         x2 = list(map(float, second_results.keys()))\n",
    "#         y2 = [\n",
    "#             d[\"passed_tests\"] / (d[\"passed_tests\"] + d[\"failed_tests\"])\n",
    "#             for d in second_results.values()\n",
    "#         ]\n",
    "#         axs[plot_id].scatter(x1, y1, label=first_name, color=\"blue\")\n",
    "#         axs[plot_id].scatter(x2, y2, label=second_name, color=\"red\")\n",
    "#         axs[plot_id].set_title(f\"{tasks}_{leaves}_{spines}\")\n",
    "#         axs[plot_id].set_xlabel(\"alpha\")\n",
    "#         axs[plot_id].set_ylabel(\"success rate\")\n",
    "#         axs[plot_id].legend()\n",
    "#     fig.tight_layout()\n",
    "#     plt.show()\n",
    "\n",
    "\n",
    "# def draw_all_files(names: list):\n",
    "#     statistics = [get_statistic(name) for name in names]\n",
    "#     n = len(names)\n",
    "#     m = len(statistics[0])\n",
    "#     configs = sorted(list(statistics[0].keys()))\n",
    "#     # print(configs)\n",
    "#     figs, axses = [], []\n",
    "#     for i in range(0, m, 3):\n",
    "#         step = min(3, m-i)\n",
    "#         fig, axs = plt.subplots(step)\n",
    "#         filename = ''\n",
    "#         for plot_id, config in enumerate(configs[i:i+step]):\n",
    "#             tasks, leaves, spines = eval(config)\n",
    "#             filename += f'({tasks}_{leaves}_{spines})'\n",
    "#             results = [stat[config] for stat in statistics]\n",
    "    \n",
    "#             for j, res in enumerate(results):\n",
    "#                 x = list(map(float, res.keys()))\n",
    "#                 y = [\n",
    "#                     d[\"passed_tests\"] / (d[\"passed_tests\"] + d[\"failed_tests\"])\n",
    "#                     for d in res.values()\n",
    "#                 ]\n",
    "#                 if i in [0, 18]:\n",
    "#                     axs[plot_id].scatter(x, y, s=9.5, label=f\"scenario {j+1}\")\n",
    "#                 else:\n",
    "#                     axs[plot_id].scatter(x, y, s=9.5)\n",
    "#             axs[plot_id].grid()\n",
    "#             axs[plot_id].set_ylim(-0.1, 1.1)\n",
    "#             axs[plot_id].set_title(f\"{tasks} tasks, {leaves} leaves, {spines} spines\")\n",
    "#             axs[plot_id].set_xlabel(\"alpha\")\n",
    "#             axs[plot_id].set_ylabel(\"success rate\")\n",
    "#             axs[plot_id].legend()\n",
    "#             yticks = [0, 0.25, 0.5, 0.75, 1]\n",
    "#             axs[plot_id].set_yticks(yticks)\n",
    "#         handles, labels = axs[0].get_legend_handles_labels()\n",
    "#         if i in [0, 18]:\n",
    "#             fig.legend(\n",
    "#                 handles,\n",
    "#                 labels,\n",
    "#                 loc=\"lower left\",\n",
    "#                 bbox_to_anchor=(0, 0),\n",
    "#                 fontsize=6,\n",
    "#                 markerscale=0.4,\n",
    "#             )\n",
    "#         for ax in axs:\n",
    "#             ax.get_legend().set_visible(False)\n",
    "#         fig.tight_layout()\n",
    "#         fig.savefig(f'{filename}.pdf')\n",
    "#         figs.append(fig)\n",
    "#         axses.append(axs)\n",
    "#     plt.show()\n"
   ]
  },
  {
   "cell_type": "code",
   "execution_count": 4,
   "id": "ff86b1f9-cf4a-4e2e-b045-f056f4ed71a0",
   "metadata": {},
   "outputs": [],
   "source": [
    "# draw_all_files(\n",
    "#     [\"More_tests_iteration_10000_1.json\", \"More_tests_iteration_10000_2.json\"]\n",
    "# )"
   ]
  },
  {
   "cell_type": "code",
   "execution_count": 5,
   "id": "5c1578d0-3228-447c-a148-67bb16da9d4f",
   "metadata": {},
   "outputs": [],
   "source": [
    "def ranking_is_correct(ranking, spines):\n",
    "    ranking = np.asarray(ranking)\n",
    "    tasks = len(ranking)\n",
    "    leaves = len(ranking[0])\n",
    "    for leaf_hosts in ranking.sum(axis=0):\n",
    "        if leaf_hosts > spines:\n",
    "            return False\n",
    "    return True\n",
    "\n",
    "\n",
    "def ranking_is_colored(t, l, s, ranking, need_plot=False):\n",
    "    G = nx.Graph()\n",
    "    leaves_host_number_on_tasks = [\n",
    "        [(task, ranking[task][leaf]) for task in range(t)] for leaf in range(l)\n",
    "    ]\n",
    "    for leaf in leaves_host_number_on_tasks:\n",
    "        for task_id, size in leaf:\n",
    "            for i in range(1, size + 1):\n",
    "                for j in range(i + 1, size + 1):\n",
    "                    G.add_edge(f\"{task_id}_{i}\", f\"{task_id}_{j}\")\n",
    "        for from_ in range(0, len(leaf)):\n",
    "            for to_ in range(from_ + 1, len(leaf)):\n",
    "                task_from, size_from = leaf[from_]\n",
    "                task_to, size_to = leaf[to_]\n",
    "                for i in range(1, size_from + 1):\n",
    "                    for j in range(1, size_to + 1):\n",
    "                        G.add_edge(f\"{task_from}_{i}\", f\"{task_to}_{j}\")\n",
    "\n",
    "    if need_plot:\n",
    "        print(len(G.nodes))\n",
    "        nx.draw_networkx(G, with_labels=True)\n",
    "        plt.show()\n",
    "\n",
    "    model = cp_model.CpModel()\n",
    "\n",
    "    # search_parameters = pywrapcp.DefaultRoutingSearchParameters()\n",
    "    # search_parameters.time_limit.seconds = 300\n",
    "\n",
    "    node_order = {node: i for i, node in enumerate(G.nodes())}\n",
    "    variables = [model.NewIntVar(1, s, node) for node in G.nodes()]\n",
    "    for u, v in G.edges():\n",
    "        model.add(variables[node_order[u]] != variables[node_order[v]])\n",
    "    solver = cp_model.CpSolver()\n",
    "    # solver.parameters.max_time_in_seconds = 300\n",
    "\n",
    "    status = solver.solve(model)\n",
    "    return (status == cp_model.OPTIMAL) or (status == cp_model.FEASIBLE)\n",
    "\n",
    "\n",
    "def generate_test_alpha(tasks, leaves, spines, alpha=1, task_distribution=None):\n",
    "    res = []\n",
    "    bounds = [spines] * leaves\n",
    "    task_prob = np.ones(leaves, dtype=np.float64)\n",
    "    for task in range(tasks):\n",
    "        task_location = [0] * leaves\n",
    "        # task_prob = np.ones(leaves, dtype=np.float64)\n",
    "        for leaf in range(leaves):\n",
    "            if bounds[leaf] == 0:\n",
    "                task_prob[leaf] = 0\n",
    "        if task_distribution is None:\n",
    "            two_power_border = int(\n",
    "                math.log2(1 + min(max(bounds), sum(bounds) - 2 * (tasks - task - 1)))\n",
    "            )\n",
    "            two_power = 2 ** np.random.choice(list(range(1, two_power_border + 1)))\n",
    "        else:\n",
    "            two_power = task_distribution[task]\n",
    "        for host in range(two_power):\n",
    "            if np.sum(task_prob) == 0:\n",
    "                break\n",
    "            host_leaf = np.random.choice(\n",
    "                np.arange(leaves), p=task_prob / np.sum(task_prob)\n",
    "            )\n",
    "            task_location[host_leaf] += 1\n",
    "            bounds[host_leaf] -= 1\n",
    "            if bounds[host_leaf] > 0:\n",
    "                task_prob[host_leaf] = math.e ** (alpha * (spines - bounds[host_leaf]))\n",
    "            else:\n",
    "                task_prob[host_leaf] = 0\n",
    "        res.append(task_location)\n",
    "    return res\n",
    "\n",
    "\n",
    "def generate_tests_alpha(\n",
    "    tasks, leaves, spines, alpha=1, test_num=1, task_distribution=None\n",
    "):\n",
    "    ranking = generate_test_alpha(tasks, leaves, spines, alpha, task_distribution)\n",
    "\n",
    "    if not ranking_is_correct(ranking, spines):\n",
    "        return None, None\n",
    "    ranking = sorted(ranking, key=lambda x: sum(x))\n",
    "    ranking = np.asarray(ranking)\n",
    "    ranking = ranking[:, ranking.sum(axis=0).argsort()]\n",
    "    # is_colored = ranking_is_colored(tasks, leaves, spines, ranking, need_plot=True)\n",
    "    # return ranking, is_colored\n",
    "    return ranking"
   ]
  },
  {
   "cell_type": "code",
   "execution_count": 6,
   "id": "51c19f25-97de-4c84-9d2a-4fd16a5a9844",
   "metadata": {},
   "outputs": [],
   "source": [
    "def f(tasks, N):\n",
    "    logN = int(np.log2(N)) + 1\n",
    "    model = cp_model.CpModel()\n",
    "    variables = [model.NewIntVar(0, N, str(i)) for i in range(logN - 2)]\n",
    "    model.maximize(sum([(2 ** (i + 2)) * variables[i] for i in range(0, logN - 2)]))\n",
    "    model.add(sum([(2 ** (i + 2)) * variables[i] for i in range(0, logN - 2)]) <= N)\n",
    "    model.add(sum([variables[i] for i in range(logN - 2)]) == tasks)\n",
    "\n",
    "    solver = cp_model.CpSolver()\n",
    "\n",
    "    status = solver.solve(model)\n",
    "\n",
    "    res = []\n",
    "    for i in range(logN - 2):\n",
    "        if solver.value(variables[i]) == 0:\n",
    "            continue\n",
    "        res += [2 ** (i + 2)] * solver.value(variables[i])\n",
    "\n",
    "    M = sum(res)\n",
    "    start = []\n",
    "    while M > 0:\n",
    "        num = 2 ** (int(np.log2(M)))\n",
    "        start.append(num)\n",
    "        M -= num\n",
    "    start = sorted(start)\n",
    "    start = tuple(start)\n",
    "    res_set = {start}\n",
    "    for _ in range(tasks - len(start)):\n",
    "        new_set = set()\n",
    "        for distr in res_set:\n",
    "            for i, x in enumerate(distr):\n",
    "                if x <= 4:\n",
    "                    continue\n",
    "                new_distr = list(distr[:i]) + [x // 2, x // 2] + list(distr[i + 1 :])\n",
    "                new_distr = tuple(sorted(new_distr))\n",
    "                new_set.add(new_distr)\n",
    "        res_set = new_set\n",
    "    res_set = [list(x) for x in res_set]\n",
    "    return res_set"
   ]
  },
  {
   "cell_type": "code",
   "execution_count": 7,
   "id": "bf2242b2-24c5-467a-8ff1-da1245518bbd",
   "metadata": {},
   "outputs": [
    {
     "name": "stdout",
     "output_type": "stream",
     "text": [
      "[[8, 8, 8, 8, 16, 16, 32], [8, 8, 16, 16, 16, 16, 16], [4, 4, 4, 4, 16, 32, 32], [4, 4, 4, 4, 8, 8, 64], [4, 4, 8, 16, 16, 16, 32], [4, 4, 8, 8, 8, 32, 32]]\n",
      "[[16, 16, 16, 16, 64], [8, 8, 16, 32, 64], [16, 16, 32, 32, 32]]\n"
     ]
    }
   ],
   "source": [
    "print(f(7, 96))\n",
    "print(f(5, 128))"
   ]
  },
  {
   "cell_type": "code",
   "execution_count": 15,
   "id": "840fea35-5a8c-45d6-85bb-37b65013ba1b",
   "metadata": {},
   "outputs": [
    {
     "name": "stdout",
     "output_type": "stream",
     "text": [
      "-1.0\n"
     ]
    },
    {
     "data": {
      "text/plain": [
       "array([[0, 0, 0, 2, 0, 0, 0, 0, 0, 0, 0, 0, 0, 0, 2, 0],\n",
       "       [0, 0, 0, 0, 0, 0, 0, 2, 0, 1, 0, 0, 1, 0, 0, 0],\n",
       "       [1, 0, 1, 0, 1, 0, 0, 0, 0, 0, 0, 1, 0, 0, 0, 0],\n",
       "       [0, 0, 1, 0, 0, 1, 0, 1, 0, 0, 0, 0, 0, 0, 1, 0],\n",
       "       [1, 1, 2, 1, 1, 2, 2, 0, 1, 0, 2, 1, 0, 0, 0, 2],\n",
       "       [3, 2, 0, 1, 1, 1, 3, 0, 2, 3, 2, 2, 3, 5, 2, 2],\n",
       "       [1, 3, 2, 2, 3, 2, 1, 3, 3, 2, 2, 2, 2, 1, 1, 2]])"
      ]
     },
     "metadata": {},
     "output_type": "display_data"
    },
    {
     "data": {
      "text/plain": [
       "True"
      ]
     },
     "metadata": {},
     "output_type": "display_data"
    },
    {
     "name": "stdout",
     "output_type": "stream",
     "text": [
      "colored 8\n",
      "------------\n",
      "-0.9\n"
     ]
    },
    {
     "data": {
      "text/plain": [
       "array([[1, 0, 0, 0, 0, 0, 1, 0, 0, 1, 0, 0, 1, 0, 0, 0],\n",
       "       [0, 1, 0, 1, 0, 0, 0, 0, 0, 0, 0, 0, 1, 0, 0, 1],\n",
       "       [0, 0, 0, 0, 0, 2, 0, 1, 0, 0, 0, 1, 0, 0, 0, 0],\n",
       "       [0, 0, 0, 0, 0, 0, 1, 0, 0, 0, 0, 0, 0, 1, 2, 0],\n",
       "       [1, 1, 2, 1, 1, 0, 0, 0, 3, 1, 2, 1, 0, 1, 0, 2],\n",
       "       [2, 3, 1, 2, 3, 2, 2, 2, 2, 2, 1, 2, 2, 2, 2, 2],\n",
       "       [2, 1, 3, 2, 2, 2, 2, 3, 1, 2, 3, 2, 2, 2, 2, 1]])"
      ]
     },
     "metadata": {},
     "output_type": "display_data"
    },
    {
     "data": {
      "text/plain": [
       "True"
      ]
     },
     "metadata": {},
     "output_type": "display_data"
    },
    {
     "name": "stdout",
     "output_type": "stream",
     "text": [
      "colored 7\n",
      "------------\n",
      "-0.8\n"
     ]
    },
    {
     "data": {
      "text/plain": [
       "array([[0, 0, 0, 0, 0, 1, 0, 0, 0, 2, 0, 0, 1, 0, 0, 0],\n",
       "       [1, 0, 0, 1, 1, 0, 0, 0, 0, 1, 0, 0, 0, 0, 0, 0],\n",
       "       [1, 1, 1, 0, 0, 0, 1, 0, 0, 0, 0, 0, 0, 0, 0, 0],\n",
       "       [0, 0, 0, 0, 0, 0, 0, 1, 1, 0, 0, 1, 0, 0, 1, 0],\n",
       "       [0, 1, 1, 2, 0, 0, 0, 0, 2, 0, 2, 1, 2, 1, 2, 2],\n",
       "       [1, 2, 2, 2, 4, 2, 3, 3, 0, 1, 2, 3, 1, 3, 1, 2],\n",
       "       [3, 2, 2, 1, 1, 3, 2, 2, 3, 2, 2, 1, 2, 2, 2, 2]])"
      ]
     },
     "metadata": {},
     "output_type": "display_data"
    },
    {
     "data": {
      "text/plain": [
       "False"
      ]
     },
     "metadata": {},
     "output_type": "display_data"
    },
    {
     "name": "stdout",
     "output_type": "stream",
     "text": [
      "colored 9\n",
      "------------\n",
      "-0.7\n"
     ]
    },
    {
     "data": {
      "text/plain": [
       "array([[1, 1, 0, 0, 1, 0, 0, 1, 0, 0, 0, 0, 0, 0, 0, 0],\n",
       "       [0, 1, 0, 0, 0, 0, 0, 0, 0, 0, 0, 1, 0, 1, 1, 0],\n",
       "       [0, 0, 1, 0, 0, 0, 1, 1, 0, 0, 0, 0, 0, 0, 0, 1],\n",
       "       [1, 0, 0, 0, 0, 0, 0, 1, 0, 0, 0, 0, 0, 0, 1, 1],\n",
       "       [2, 1, 1, 2, 0, 2, 2, 0, 0, 3, 0, 1, 1, 0, 0, 1],\n",
       "       [0, 0, 2, 3, 2, 3, 2, 0, 2, 1, 5, 2, 4, 3, 2, 1],\n",
       "       [2, 3, 2, 1, 3, 1, 1, 3, 4, 2, 1, 2, 1, 2, 2, 2]])"
      ]
     },
     "metadata": {},
     "output_type": "display_data"
    },
    {
     "data": {
      "text/plain": [
       "False"
      ]
     },
     "metadata": {},
     "output_type": "display_data"
    },
    {
     "name": "stdout",
     "output_type": "stream",
     "text": [
      "colored 9\n",
      "------------\n",
      "-0.6\n"
     ]
    },
    {
     "data": {
      "text/plain": [
       "array([[0, 0, 0, 0, 0, 1, 0, 0, 0, 0, 0, 0, 2, 1, 0, 0],\n",
       "       [1, 0, 0, 0, 0, 1, 0, 0, 0, 1, 0, 0, 0, 1, 0, 0],\n",
       "       [0, 0, 0, 0, 0, 0, 1, 0, 1, 0, 1, 0, 0, 0, 0, 1],\n",
       "       [0, 0, 1, 0, 0, 0, 0, 0, 0, 1, 0, 1, 0, 0, 0, 1],\n",
       "       [1, 2, 1, 2, 1, 1, 1, 2, 0, 1, 0, 0, 0, 1, 3, 0],\n",
       "       [2, 1, 3, 2, 4, 1, 2, 2, 3, 0, 3, 1, 3, 2, 1, 2],\n",
       "       [2, 3, 1, 2, 1, 2, 2, 2, 2, 3, 2, 4, 1, 1, 2, 2]])"
      ]
     },
     "metadata": {},
     "output_type": "display_data"
    },
    {
     "data": {
      "text/plain": [
       "True"
      ]
     },
     "metadata": {},
     "output_type": "display_data"
    },
    {
     "name": "stdout",
     "output_type": "stream",
     "text": [
      "colored 8\n",
      "------------\n",
      "-0.5\n"
     ]
    },
    {
     "data": {
      "text/plain": [
       "array([[0, 1, 0, 0, 0, 0, 1, 1, 0, 0, 1, 0, 0, 0, 0, 0],\n",
       "       [1, 1, 0, 0, 0, 0, 0, 0, 1, 0, 0, 0, 0, 1, 0, 0],\n",
       "       [0, 0, 0, 0, 0, 0, 0, 0, 1, 0, 0, 2, 1, 0, 0, 0],\n",
       "       [0, 0, 0, 1, 0, 0, 0, 0, 0, 0, 0, 0, 0, 0, 1, 2],\n",
       "       [1, 1, 0, 1, 0, 2, 2, 1, 0, 3, 1, 1, 1, 1, 1, 0],\n",
       "       [1, 2, 4, 3, 3, 3, 0, 1, 3, 1, 2, 2, 4, 1, 1, 1],\n",
       "       [3, 1, 2, 1, 3, 1, 3, 3, 1, 2, 2, 1, 0, 3, 3, 3]])"
      ]
     },
     "metadata": {},
     "output_type": "display_data"
    },
    {
     "data": {
      "text/plain": [
       "True"
      ]
     },
     "metadata": {},
     "output_type": "display_data"
    },
    {
     "name": "stdout",
     "output_type": "stream",
     "text": [
      "colored 8\n",
      "------------\n",
      "-0.4\n"
     ]
    },
    {
     "data": {
      "text/plain": [
       "array([[1, 1, 0, 0, 0, 0, 1, 0, 0, 0, 0, 0, 1, 0, 0, 0],\n",
       "       [0, 0, 0, 1, 0, 0, 0, 0, 0, 0, 0, 0, 1, 0, 1, 1],\n",
       "       [0, 0, 0, 0, 0, 1, 0, 0, 0, 1, 1, 0, 0, 0, 1, 0],\n",
       "       [1, 0, 0, 0, 0, 0, 0, 1, 0, 0, 0, 1, 0, 0, 0, 1],\n",
       "       [1, 1, 1, 1, 3, 1, 1, 2, 1, 0, 1, 1, 0, 0, 1, 1],\n",
       "       [1, 2, 3, 1, 2, 3, 2, 3, 2, 3, 2, 3, 1, 2, 1, 1],\n",
       "       [2, 2, 2, 3, 1, 1, 2, 0, 3, 2, 2, 1, 3, 4, 2, 2]])"
      ]
     },
     "metadata": {},
     "output_type": "display_data"
    },
    {
     "data": {
      "text/plain": [
       "True"
      ]
     },
     "metadata": {},
     "output_type": "display_data"
    },
    {
     "name": "stdout",
     "output_type": "stream",
     "text": [
      "colored 7\n",
      "------------\n",
      "-0.3\n"
     ]
    },
    {
     "data": {
      "text/plain": [
       "array([[0, 0, 2, 0, 1, 0, 0, 0, 0, 0, 1, 0, 0, 0, 0, 0],\n",
       "       [0, 0, 0, 0, 1, 0, 0, 1, 0, 0, 0, 0, 1, 0, 0, 1],\n",
       "       [1, 0, 0, 0, 0, 0, 0, 1, 0, 0, 0, 1, 1, 0, 0, 0],\n",
       "       [0, 1, 0, 0, 0, 0, 0, 0, 1, 1, 1, 0, 0, 0, 0, 0],\n",
       "       [1, 0, 0, 1, 0, 3, 2, 1, 1, 1, 2, 0, 2, 1, 1, 0],\n",
       "       [2, 4, 1, 2, 2, 2, 2, 1, 3, 1, 2, 2, 0, 2, 3, 3],\n",
       "       [2, 1, 3, 3, 2, 1, 2, 2, 1, 3, 0, 3, 2, 3, 2, 2]])"
      ]
     },
     "metadata": {},
     "output_type": "display_data"
    },
    {
     "data": {
      "text/plain": [
       "True"
      ]
     },
     "metadata": {},
     "output_type": "display_data"
    },
    {
     "name": "stdout",
     "output_type": "stream",
     "text": [
      "colored 8\n",
      "------------\n",
      "-0.2\n"
     ]
    },
    {
     "data": {
      "text/plain": [
       "array([[1, 1, 1, 0, 0, 0, 0, 0, 0, 0, 0, 0, 0, 0, 1, 0],\n",
       "       [0, 0, 0, 0, 2, 0, 0, 0, 1, 0, 1, 0, 0, 0, 0, 0],\n",
       "       [0, 0, 0, 0, 0, 0, 1, 0, 1, 0, 1, 0, 0, 0, 1, 0],\n",
       "       [0, 0, 0, 0, 1, 0, 1, 0, 0, 0, 0, 1, 0, 0, 0, 1],\n",
       "       [1, 1, 1, 1, 1, 2, 1, 0, 0, 2, 1, 1, 1, 2, 1, 0],\n",
       "       [1, 3, 1, 3, 2, 1, 2, 2, 4, 2, 2, 2, 1, 2, 2, 2],\n",
       "       [3, 1, 3, 2, 0, 3, 1, 4, 0, 2, 1, 2, 4, 2, 1, 3]])"
      ]
     },
     "metadata": {},
     "output_type": "display_data"
    },
    {
     "data": {
      "text/plain": [
       "True"
      ]
     },
     "metadata": {},
     "output_type": "display_data"
    },
    {
     "name": "stdout",
     "output_type": "stream",
     "text": [
      "colored 8\n",
      "------------\n",
      "-0.1\n"
     ]
    },
    {
     "data": {
      "text/plain": [
       "array([[0, 0, 0, 0, 0, 0, 1, 1, 0, 0, 0, 1, 0, 0, 0, 1],\n",
       "       [0, 1, 0, 0, 0, 0, 0, 0, 0, 0, 1, 0, 1, 1, 0, 0],\n",
       "       [0, 0, 0, 0, 1, 0, 1, 0, 0, 0, 1, 1, 0, 0, 0, 0],\n",
       "       [0, 1, 0, 0, 0, 0, 1, 1, 0, 0, 0, 0, 1, 0, 0, 0],\n",
       "       [2, 0, 2, 1, 0, 0, 1, 1, 1, 1, 2, 0, 2, 0, 0, 3],\n",
       "       [3, 4, 3, 0, 1, 1, 1, 3, 4, 2, 1, 1, 2, 2, 3, 1],\n",
       "       [1, 0, 1, 5, 4, 5, 1, 0, 1, 3, 1, 3, 0, 3, 3, 1]])"
      ]
     },
     "metadata": {},
     "output_type": "display_data"
    },
    {
     "data": {
      "text/plain": [
       "True"
      ]
     },
     "metadata": {},
     "output_type": "display_data"
    },
    {
     "name": "stdout",
     "output_type": "stream",
     "text": [
      "colored 8\n",
      "------------\n",
      "0.0\n"
     ]
    },
    {
     "data": {
      "text/plain": [
       "array([[0, 1, 0, 0, 0, 0, 0, 0, 0, 0, 1, 1, 0, 0, 0, 1],\n",
       "       [0, 0, 0, 0, 0, 0, 0, 0, 0, 1, 0, 1, 1, 0, 1, 0],\n",
       "       [0, 1, 1, 0, 0, 0, 0, 0, 1, 1, 0, 0, 0, 0, 0, 0],\n",
       "       [0, 1, 0, 0, 0, 1, 1, 0, 0, 0, 0, 0, 1, 0, 0, 0],\n",
       "       [1, 2, 1, 2, 0, 0, 1, 2, 3, 1, 0, 1, 0, 1, 1, 0],\n",
       "       [4, 1, 2, 0, 3, 1, 2, 3, 2, 1, 2, 3, 3, 2, 0, 3],\n",
       "       [1, 0, 2, 4, 3, 4, 2, 1, 0, 2, 3, 0, 1, 3, 4, 2]])"
      ]
     },
     "metadata": {},
     "output_type": "display_data"
    },
    {
     "data": {
      "text/plain": [
       "False"
      ]
     },
     "metadata": {},
     "output_type": "display_data"
    },
    {
     "name": "stdout",
     "output_type": "stream",
     "text": [
      "colored 10\n",
      "------------\n",
      "0.1\n"
     ]
    },
    {
     "data": {
      "text/plain": [
       "array([[0, 1, 0, 0, 0, 0, 1, 1, 0, 0, 0, 1, 0, 0, 0, 0],\n",
       "       [0, 0, 0, 0, 0, 1, 0, 0, 0, 0, 0, 1, 1, 1, 0, 0],\n",
       "       [1, 0, 0, 1, 1, 0, 0, 0, 0, 0, 1, 0, 0, 0, 0, 0],\n",
       "       [0, 1, 0, 0, 0, 0, 0, 0, 0, 1, 0, 1, 0, 1, 0, 0],\n",
       "       [2, 1, 2, 0, 0, 0, 0, 2, 3, 1, 0, 1, 1, 3, 0, 0],\n",
       "       [1, 2, 3, 2, 0, 2, 0, 2, 3, 1, 4, 2, 4, 1, 1, 4],\n",
       "       [2, 1, 1, 3, 5, 3, 5, 1, 0, 3, 1, 0, 0, 0, 5, 2]])"
      ]
     },
     "metadata": {},
     "output_type": "display_data"
    },
    {
     "data": {
      "text/plain": [
       "False"
      ]
     },
     "metadata": {},
     "output_type": "display_data"
    },
    {
     "name": "stdout",
     "output_type": "stream",
     "text": [
      "colored 9\n",
      "------------\n",
      "0.2\n"
     ]
    },
    {
     "data": {
      "text/plain": [
       "array([[1, 1, 0, 0, 0, 1, 1, 0, 0, 0, 0, 0, 0, 0, 0, 0],\n",
       "       [0, 0, 0, 0, 0, 0, 0, 1, 0, 0, 1, 0, 0, 0, 2, 0],\n",
       "       [0, 1, 1, 0, 0, 0, 0, 0, 1, 0, 0, 0, 0, 1, 0, 0],\n",
       "       [0, 0, 0, 0, 0, 1, 0, 0, 0, 0, 1, 1, 1, 0, 0, 0],\n",
       "       [0, 0, 0, 0, 2, 2, 0, 1, 0, 1, 2, 1, 2, 4, 1, 0],\n",
       "       [0, 0, 1, 2, 1, 2, 1, 3, 5, 4, 2, 0, 3, 1, 3, 4],\n",
       "       [5, 4, 4, 4, 3, 0, 4, 1, 0, 1, 0, 4, 0, 0, 0, 2]])"
      ]
     },
     "metadata": {},
     "output_type": "display_data"
    },
    {
     "data": {
      "text/plain": [
       "False"
      ]
     },
     "metadata": {},
     "output_type": "display_data"
    },
    {
     "name": "stdout",
     "output_type": "stream",
     "text": [
      "colored 9\n",
      "------------\n",
      "0.3\n"
     ]
    },
    {
     "data": {
      "text/plain": [
       "array([[0, 0, 1, 0, 0, 0, 0, 0, 1, 0, 1, 1, 0, 0, 0, 0],\n",
       "       [0, 0, 1, 0, 0, 0, 0, 1, 0, 0, 0, 1, 1, 0, 0, 0],\n",
       "       [1, 0, 0, 0, 0, 0, 0, 1, 1, 0, 0, 0, 0, 0, 1, 0],\n",
       "       [0, 0, 1, 0, 0, 0, 0, 0, 1, 1, 0, 0, 1, 0, 0, 0],\n",
       "       [0, 0, 1, 2, 2, 0, 0, 0, 0, 1, 4, 0, 2, 0, 3, 1],\n",
       "       [5, 1, 2, 3, 0, 1, 1, 4, 0, 3, 1, 3, 2, 1, 2, 3],\n",
       "       [0, 5, 0, 1, 4, 5, 5, 0, 3, 1, 0, 1, 0, 5, 0, 2]])"
      ]
     },
     "metadata": {},
     "output_type": "display_data"
    },
    {
     "data": {
      "text/plain": [
       "False"
      ]
     },
     "metadata": {},
     "output_type": "display_data"
    },
    {
     "name": "stdout",
     "output_type": "stream",
     "text": [
      "colored 10\n",
      "------------\n",
      "0.4\n"
     ]
    },
    {
     "data": {
      "text/plain": [
       "array([[0, 0, 0, 0, 0, 0, 0, 1, 0, 0, 2, 0, 0, 1, 0, 0],\n",
       "       [0, 1, 0, 0, 0, 1, 0, 0, 1, 0, 1, 0, 0, 0, 0, 0],\n",
       "       [0, 0, 0, 0, 0, 0, 0, 0, 1, 1, 1, 0, 0, 1, 0, 0],\n",
       "       [0, 0, 0, 0, 0, 0, 1, 0, 1, 0, 1, 0, 0, 1, 0, 0],\n",
       "       [1, 2, 1, 0, 0, 5, 0, 0, 2, 2, 1, 0, 2, 0, 0, 0],\n",
       "       [0, 3, 0, 1, 1, 0, 3, 5, 1, 3, 0, 5, 3, 3, 0, 4],\n",
       "       [5, 0, 5, 5, 5, 0, 2, 0, 0, 0, 0, 1, 1, 0, 6, 2]])"
      ]
     },
     "metadata": {},
     "output_type": "display_data"
    },
    {
     "data": {
      "text/plain": [
       "True"
      ]
     },
     "metadata": {},
     "output_type": "display_data"
    },
    {
     "name": "stdout",
     "output_type": "stream",
     "text": [
      "colored 8\n",
      "------------\n",
      "0.5\n"
     ]
    },
    {
     "data": {
      "text/plain": [
       "array([[0, 0, 0, 1, 0, 1, 0, 1, 0, 0, 1, 0, 0, 0, 0, 0],\n",
       "       [0, 0, 0, 0, 0, 1, 2, 0, 1, 0, 0, 0, 0, 0, 0, 0],\n",
       "       [1, 0, 0, 0, 0, 0, 0, 1, 0, 0, 0, 0, 0, 2, 0, 0],\n",
       "       [1, 0, 1, 0, 0, 0, 0, 0, 0, 0, 0, 0, 1, 0, 1, 0],\n",
       "       [1, 0, 2, 2, 1, 0, 0, 3, 2, 0, 0, 1, 3, 0, 1, 0],\n",
       "       [3, 0, 3, 3, 0, 0, 1, 1, 3, 0, 2, 2, 2, 4, 4, 4],\n",
       "       [0, 6, 0, 0, 5, 4, 3, 0, 0, 6, 3, 3, 0, 0, 0, 2]])"
      ]
     },
     "metadata": {},
     "output_type": "display_data"
    },
    {
     "data": {
      "text/plain": [
       "True"
      ]
     },
     "metadata": {},
     "output_type": "display_data"
    },
    {
     "name": "stdout",
     "output_type": "stream",
     "text": [
      "colored 8\n",
      "------------\n",
      "0.6\n"
     ]
    },
    {
     "data": {
      "text/plain": [
       "array([[2, 0, 0, 0, 0, 0, 0, 0, 0, 0, 1, 0, 0, 0, 1, 0],\n",
       "       [0, 0, 0, 0, 0, 0, 0, 0, 0, 1, 3, 0, 0, 0, 0, 0],\n",
       "       [1, 0, 0, 0, 0, 0, 0, 0, 1, 0, 1, 1, 0, 0, 0, 0],\n",
       "       [0, 0, 0, 0, 1, 0, 1, 0, 1, 0, 1, 0, 0, 0, 0, 0],\n",
       "       [3, 1, 0, 0, 0, 1, 3, 4, 0, 1, 0, 0, 0, 1, 2, 0],\n",
       "       [0, 2, 0, 2, 1, 1, 2, 2, 4, 4, 0, 5, 0, 5, 3, 1],\n",
       "       [0, 3, 6, 4, 4, 4, 0, 0, 0, 0, 0, 0, 6, 0, 0, 5]])"
      ]
     },
     "metadata": {},
     "output_type": "display_data"
    },
    {
     "data": {
      "text/plain": [
       "True"
      ]
     },
     "metadata": {},
     "output_type": "display_data"
    },
    {
     "name": "stdout",
     "output_type": "stream",
     "text": [
      "colored 8\n",
      "------------\n",
      "0.7\n"
     ]
    },
    {
     "data": {
      "text/plain": [
       "array([[0, 0, 0, 1, 1, 0, 0, 0, 0, 0, 0, 0, 0, 1, 0, 1],\n",
       "       [0, 0, 0, 0, 0, 0, 1, 0, 0, 0, 0, 0, 0, 0, 0, 3],\n",
       "       [0, 0, 0, 1, 0, 0, 1, 0, 0, 0, 0, 0, 0, 0, 0, 2],\n",
       "       [0, 0, 0, 0, 0, 1, 0, 0, 0, 0, 2, 0, 0, 1, 0, 0],\n",
       "       [0, 1, 0, 1, 5, 0, 1, 3, 0, 0, 3, 0, 0, 2, 0, 0],\n",
       "       [2, 4, 1, 3, 0, 5, 3, 3, 1, 6, 1, 0, 0, 2, 1, 0],\n",
       "       [4, 1, 5, 0, 0, 0, 0, 0, 5, 0, 0, 6, 6, 0, 5, 0]])"
      ]
     },
     "metadata": {},
     "output_type": "display_data"
    },
    {
     "data": {
      "text/plain": [
       "True"
      ]
     },
     "metadata": {},
     "output_type": "display_data"
    },
    {
     "name": "stdout",
     "output_type": "stream",
     "text": [
      "colored 8\n",
      "------------\n",
      "0.8\n"
     ]
    },
    {
     "data": {
      "text/plain": [
       "array([[1, 0, 0, 1, 1, 0, 0, 0, 0, 0, 0, 0, 0, 1, 0, 0],\n",
       "       [0, 0, 0, 0, 1, 0, 0, 1, 0, 0, 0, 0, 1, 0, 1, 0],\n",
       "       [1, 0, 0, 0, 1, 1, 0, 0, 0, 0, 0, 0, 0, 0, 0, 1],\n",
       "       [0, 0, 0, 0, 3, 0, 0, 0, 0, 0, 0, 0, 1, 0, 0, 0],\n",
       "       [4, 0, 0, 1, 0, 0, 0, 0, 0, 0, 0, 0, 1, 5, 0, 5],\n",
       "       [0, 0, 2, 4, 0, 5, 1, 5, 1, 3, 0, 3, 3, 0, 5, 0],\n",
       "       [0, 6, 4, 0, 0, 0, 5, 0, 5, 3, 6, 3, 0, 0, 0, 0]])"
      ]
     },
     "metadata": {},
     "output_type": "display_data"
    },
    {
     "data": {
      "text/plain": [
       "True"
      ]
     },
     "metadata": {},
     "output_type": "display_data"
    },
    {
     "name": "stdout",
     "output_type": "stream",
     "text": [
      "colored 8\n",
      "------------\n",
      "0.9\n"
     ]
    },
    {
     "data": {
      "text/plain": [
       "array([[0, 0, 0, 0, 0, 0, 1, 2, 0, 0, 0, 0, 0, 0, 1, 0],\n",
       "       [0, 0, 0, 0, 0, 0, 1, 2, 0, 0, 0, 0, 0, 1, 0, 0],\n",
       "       [0, 0, 0, 0, 0, 0, 1, 2, 1, 0, 0, 0, 0, 0, 0, 0],\n",
       "       [0, 0, 0, 1, 0, 0, 0, 0, 0, 0, 0, 0, 0, 1, 0, 2],\n",
       "       [0, 0, 0, 0, 2, 0, 3, 0, 0, 0, 0, 1, 0, 4, 2, 4],\n",
       "       [6, 2, 6, 5, 4, 0, 0, 0, 0, 0, 1, 5, 0, 0, 3, 0],\n",
       "       [0, 4, 0, 0, 0, 6, 0, 0, 5, 6, 5, 0, 6, 0, 0, 0]])"
      ]
     },
     "metadata": {},
     "output_type": "display_data"
    },
    {
     "data": {
      "text/plain": [
       "True"
      ]
     },
     "metadata": {},
     "output_type": "display_data"
    },
    {
     "name": "stdout",
     "output_type": "stream",
     "text": [
      "colored 7\n",
      "------------\n",
      "1.0\n"
     ]
    },
    {
     "data": {
      "text/plain": [
       "array([[0, 1, 0, 0, 1, 2, 0, 0, 0, 0, 0, 0, 0, 0, 0, 0],\n",
       "       [0, 3, 0, 0, 0, 0, 0, 0, 0, 0, 0, 0, 0, 0, 1, 0],\n",
       "       [0, 2, 0, 0, 0, 2, 0, 0, 0, 0, 0, 0, 0, 0, 0, 0],\n",
       "       [0, 0, 1, 0, 0, 2, 0, 1, 0, 0, 0, 0, 0, 0, 0, 0],\n",
       "       [0, 0, 5, 3, 0, 0, 0, 5, 0, 0, 0, 0, 2, 0, 0, 1],\n",
       "       [3, 0, 0, 3, 2, 0, 0, 0, 4, 1, 1, 6, 4, 2, 1, 5],\n",
       "       [3, 0, 0, 0, 3, 0, 6, 0, 2, 5, 5, 0, 0, 4, 4, 0]])"
      ]
     },
     "metadata": {},
     "output_type": "display_data"
    },
    {
     "data": {
      "text/plain": [
       "True"
      ]
     },
     "metadata": {},
     "output_type": "display_data"
    },
    {
     "name": "stdout",
     "output_type": "stream",
     "text": [
      "colored 6\n",
      "------------\n",
      "[-1.0, True]\n",
      "[-0.9, True]\n",
      "[-0.8, False]\n",
      "[-0.7, False]\n",
      "[-0.6, True]\n",
      "[-0.5, True]\n",
      "[-0.4, True]\n",
      "[-0.3, True]\n",
      "[-0.2, True]\n",
      "[-0.1, True]\n",
      "[0.0, False]\n",
      "[0.1, False]\n",
      "[0.2, False]\n",
      "[0.3, False]\n",
      "[0.4, True]\n",
      "[0.5, True]\n",
      "[0.6, True]\n",
      "[0.7, True]\n",
      "[0.8, True]\n",
      "[0.9, True]\n",
      "[1.0, True]\n"
     ]
    }
   ],
   "source": [
    "np.random.seed(5)\n",
    "t, l, s = 7, 16, 8\n",
    "res = []\n",
    "for alpha in alpha_list:\n",
    "    alpha = float(alpha)\n",
    "    print(alpha)\n",
    "    ranking = generate_tests_alpha(t, l, s-2, alpha=alpha, test_num=1, task_distribution=[4, 4, 4, 4, 16, 32, 32])\n",
    "    is_colored = ranking_is_colored(t, l, s, ranking, need_plot=False)\n",
    "    display(ranking, is_colored)\n",
    "    res.append([alpha, is_colored])\n",
    "    for spines in range(2, 100):\n",
    "        if ranking_is_colored(t, l, spines, ranking):\n",
    "            print(f'colored {spines}')\n",
    "            break\n",
    "    print('------------')\n",
    "for x in res:\n",
    "    print(x)"
   ]
  },
  {
   "cell_type": "code",
   "execution_count": 62,
   "id": "2b5c4c08-ebaf-4e4c-8ca3-f529610efcf8",
   "metadata": {},
   "outputs": [
    {
     "data": {
      "text/plain": [
       "np.int64(448)"
      ]
     },
     "execution_count": 62,
     "metadata": {},
     "output_type": "execute_result"
    }
   ],
   "source": []
  },
  {
   "cell_type": "code",
   "execution_count": 47,
   "id": "95bce154-a7e2-455a-9bfb-579e078b414b",
   "metadata": {},
   "outputs": [
    {
     "data": {
      "text/plain": [
       "True"
      ]
     },
     "execution_count": 47,
     "metadata": {},
     "output_type": "execute_result"
    }
   ],
   "source": [
    "ranking_is_colored(4, 16, 8, ranking)"
   ]
  }
 ],
 "metadata": {
  "kernelspec": {
   "display_name": "Python 3 (ipykernel)",
   "language": "python",
   "name": "python3"
  },
  "language_info": {
   "codemirror_mode": {
    "name": "ipython",
    "version": 3
   },
   "file_extension": ".py",
   "mimetype": "text/x-python",
   "name": "python",
   "nbconvert_exporter": "python",
   "pygments_lexer": "ipython3",
   "version": "3.13.0"
  }
 },
 "nbformat": 4,
 "nbformat_minor": 5
}
